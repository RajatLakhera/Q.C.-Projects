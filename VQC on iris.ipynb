{
 "cells": [
  {
   "cell_type": "code",
   "execution_count": null,
   "id": "583bda99-72dd-45a0-944f-20f9bf1e9a1e",
   "metadata": {},
   "outputs": [],
   "source": [
    "import numpy as np\n",
    "import matplotlib.pyplot as plt\n",
    "from IPython.display import clear_output\n",
    "import pandas as pd\n",
    "\n",
    "from qiskit import QuantumCircuit, transpile, Aer, IBMQ\n",
    "from qiskit.tools.jupyter import *\n",
    "from qiskit.visualization import *\n",
    "from ibm_quantum_widgets import *\n",
    "from qiskit.providers.aer import QasmSimulator\n",
    "from qiskit import BasicAer\n",
    "from qiskit.utils import QuantumInstance, algorithm_globals\n",
    "from qiskit.algorithms.optimizers import COBYLA, SLSQP, SPSA\n",
    "from qiskit.circuit.library import TwoLocal, ZZFeatureMap,RealAmplitudes\n",
    "from qiskit_machine_learning.algorithms import VQC\n",
    "from qiskit_machine_learning.datasets import ad_hoc_data\n",
    "from sklearn.model_selection import train_test_split\n",
    "\n",
    "# Loading your IBM Quantum account(s)\n",
    "provider = IBMQ.load_account()"
   ]
  },
  {
   "cell_type": "code",
   "execution_count": null,
   "id": "6d8cacd0-c69e-4083-b181-8ac39325add2",
   "metadata": {},
   "outputs": [],
   "source": [
    "seed = 1376\n",
    "algorithm_globals.random_seed = seed\n",
    "Iris_data=pd.read_csv('Iris.csv')\n",
    "Iris_data.drop(['Id'], axis=1)"
   ]
  },
  {
   "cell_type": "code",
   "execution_count": null,
   "id": "884876cb-2203-4b5a-af09-83856d01108b",
   "metadata": {},
   "outputs": [],
   "source": [
    "feature_cols = [\n",
    "    'SepalLengthCm',\n",
    "    'SepalWidthCm',\n",
    "    'PetalLengthCm',\n",
    "    'PetalWidthCm'\n",
    "]\n",
    "\n",
    "target_col = ['Species']"
   ]
  },
  {
   "cell_type": "code",
   "execution_count": null,
   "id": "f22dfae7-24f1-4ccf-b7ed-fad51142cd6d",
   "metadata": {},
   "outputs": [],
   "source": [
    "xtrain = Iris_data[feature_cols]\n",
    "ytrain = Iris_data[target_col]#.astype(int)\n",
    "\n",
    "ytrain_new = pd.get_dummies(ytrain, columns=[\"Species\"])\n",
    "\n",
    "x_train, x_test, y_train, y_test = train_test_split(xtrain, ytrain_new, test_size=0.25, random_state=42)\n",
    "\n",
    "x_train.shape, x_test.shape, y_train.shape, y_test.shape"
   ]
  },
  {
   "cell_type": "code",
   "execution_count": null,
   "id": "585aafec-0a93-4759-b2c7-6cb3083a2bba",
   "metadata": {},
   "outputs": [],
   "source": [
    "feature_map = ZZFeatureMap(feature_dimension=4, reps=3, entanglement='linear', insert_barriers=True)\n",
    "\n",
    "ansatz = TwoLocal(num_qubits=4, reps=3, rotation_blocks=['ry','rz'], \n",
    "               entanglement_blocks='cx', entanglement='circular', insert_barriers=True)\n",
    "\n",
    "circuit = feature_map.compose(ansatz)\n",
    "circuit.decompose().draw(output='mpl')"
   ]
  },
  {
   "cell_type": "markdown",
   "id": "5860ab3f-2405-4d4e-9fce-62d3737100b8",
   "metadata": {},
   "source": [
    "# Noiseless simulation with COBYLA optimizer"
   ]
  },
  {
   "cell_type": "code",
   "execution_count": null,
   "id": "c8b3f710-076f-40cf-a08b-537939b1c9d7",
   "metadata": {},
   "outputs": [],
   "source": [
    "# callback function that draws a live plot when the .fit() method is called\n",
    "def callback_graph(weights, obj_func_eval):\n",
    "    clear_output(wait=True)\n",
    "    objective_func_vals.append(obj_func_eval)\n",
    "    plt.title(\"Objective function value against iteration\")\n",
    "    plt.xlabel(\"Iteration\")\n",
    "    plt.ylabel(\"Objective function value\")\n",
    "    plt.plot(range(len(objective_func_vals)), objective_func_vals)\n",
    "    plt.show()"
   ]
  },
  {
   "cell_type": "code",
   "execution_count": null,
   "id": "265e7092-f1ee-4661-8e65-ba1e1741bf93",
   "metadata": {},
   "outputs": [],
   "source": [
    "vqc = VQC(feature_map=feature_map,ansatz=ansatz, optimizer=COBYLA(maxiter=250), quantum_instance=QuantumInstance(BasicAer.get_backend('statevector_simulator'),shots=1024,seed_simulator=seed,seed_transpiler=seed),callback=callback_graph)"
   ]
  },
  {
   "cell_type": "code",
   "execution_count": null,
   "id": "353590c4-8111-4b06-9770-1457185039c0",
   "metadata": {},
   "outputs": [],
   "source": [
    "# create empty array for callback to store evaluations of the objective function\n",
    "objective_func_vals = []\n",
    "plt.rcParams[\"figure.figsize\"] = (12, 6)\n",
    "\n",
    "# fit classifier to data\n",
    "vqc.fit(x_train, y_train.to_numpy())\n",
    "\n",
    "# return to default figsize\n",
    "plt.rcParams[\"figure.figsize\"] = (6, 4)\n",
    "\n",
    "# score classifier\n",
    "vqc.score(x_test, y_test.to_numpy())\n",
    "print(f\"Testing accuracy: {score:0.2f}\")"
   ]
  },
  {
   "cell_type": "markdown",
   "id": "67b4afc1-a73f-481d-af9b-4e3c2aab7cb0",
   "metadata": {},
   "source": [
    "# Noiseless simulation with SPSA Optimizer"
   ]
  },
  {
   "cell_type": "code",
   "execution_count": null,
   "id": "63d9fd7b-2efa-4bbc-ac9b-f78be0b60c8c",
   "metadata": {},
   "outputs": [],
   "source": [
    "vqc = VQC(feature_map=feature_map,\n",
    "          ansatz=ansatz,\n",
    "          optimizer=SPSA(maxiter=100),\n",
    "          quantum_instance=QuantumInstance(BasicAer.get_backend('statevector_simulator'),\n",
    "                                           shots=1024,\n",
    "                                           seed_simulator=seed,\n",
    "                                           seed_transpiler=seed),callback=callback_graph\n",
    "          )"
   ]
  },
  {
   "cell_type": "code",
   "execution_count": null,
   "id": "1f2c426a-dfd3-46a0-b0a3-ef21745974ff",
   "metadata": {},
   "outputs": [],
   "source": [
    "# create empty array for callback to store evaluations of the objective function\n",
    "objective_func_vals = []\n",
    "plt.rcParams[\"figure.figsize\"] = (12, 6)\n",
    "\n",
    "# fit classifier to data\n",
    "vqc.fit(x_train, y_train.to_numpy())\n",
    "\n",
    "# return to default figsize\n",
    "plt.rcParams[\"figure.figsize\"] = (6, 4)\n",
    "\n",
    "# score classifier\n",
    "vqc.score(x_test, y_test.to_numpy())\n",
    "print(f\"Testing accuracy: {score:0.2f}\")"
   ]
  }
 ],
 "metadata": {
  "kernelspec": {
   "display_name": "Python 3 (ipykernel)",
   "language": "python",
   "name": "python3"
  },
  "language_info": {
   "codemirror_mode": {
    "name": "ipython",
    "version": 3
   },
   "file_extension": ".py",
   "mimetype": "text/x-python",
   "name": "python",
   "nbconvert_exporter": "python",
   "pygments_lexer": "ipython3",
   "version": "3.8.13"
  },
  "widgets": {
   "application/vnd.jupyter.widget-state+json": {
    "state": {},
    "version_major": 2,
    "version_minor": 0
   }
  }
 },
 "nbformat": 4,
 "nbformat_minor": 5
}
